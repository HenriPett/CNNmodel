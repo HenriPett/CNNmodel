{
  "nbformat": 4,
  "nbformat_minor": 0,
  "metadata": {
    "colab": {
      "name": "Cnnmodel.ipynb",
      "provenance": [],
      "authorship_tag": "ABX9TyPnWKlYNRf0Ni6daPcr3Zyw",
      "include_colab_link": true
    },
    "kernelspec": {
      "name": "python3",
      "display_name": "Python 3"
    },
    "language_info": {
      "name": "python"
    },
    "accelerator": "GPU"
  },
  "cells": [
    {
      "cell_type": "markdown",
      "metadata": {
        "id": "view-in-github",
        "colab_type": "text"
      },
      "source": [
        "<a href=\"https://colab.research.google.com/github/HenriPett/CNNmodel/blob/main/Cnnmodel.ipynb\" target=\"_parent\"><img src=\"https://colab.research.google.com/assets/colab-badge.svg\" alt=\"Open In Colab\"/></a>"
      ]
    },
    {
      "cell_type": "code",
      "metadata": {
        "id": "Ay4MMcdeyLXD"
      },
      "source": [
        "\"\"\"\n",
        "Recomendo que voce execute todo o codigo com a GPU do Google Colab, para isso:\n",
        "Ambiente de execução -> Alterar o tipo de ambiente de execução -> Acelerador de\n",
        "Hardware -> GPU -> Salvar\n",
        "\n",
        "Devo apontar que é normal o codigo demorar para ser executado, os processos de aprendizado\n",
        "e download são lentos.\n",
        "\n",
        "A acuracia desse modelo ficou em 93%, então as vezes ele ira errar.\n",
        "\"\"\""
      ],
      "execution_count": null,
      "outputs": []
    },
    {
      "cell_type": "code",
      "metadata": {
        "id": "LEIfHxR1aj6Y"
      },
      "source": [
        "import tensorflow as tf\n",
        "from tensorflow.keras import datasets, layers, models\n",
        "import matplotlib.pyplot as plt\n",
        "from random import randint"
      ],
      "execution_count": null,
      "outputs": []
    },
    {
      "cell_type": "code",
      "metadata": {
        "colab": {
          "base_uri": "https://localhost:8080/"
        },
        "id": "zmvJDjM4a_xe",
        "outputId": "4cdd8a4d-c049-4139-c3db-b41850df4d2b"
      },
      "source": [
        "#Pegamos o dataset CIFAR10, ele tem 60.000 imagens e 10 categorias\n",
        "\n",
        "#dividimos os dados em: dados de treino/dados de classificaçao e dados de teste/dados de classificaçao\n",
        "\n",
        "(train_images, train_labels), (test_images, test_labels) = datasets.cifar10.load_data()"
      ],
      "execution_count": null,
      "outputs": [
        {
          "output_type": "stream",
          "text": [
            "Downloading data from https://www.cs.toronto.edu/~kriz/cifar-10-python.tar.gz\n",
            "170500096/170498071 [==============================] - 2s 0us/step\n"
          ],
          "name": "stdout"
        }
      ]
    },
    {
      "cell_type": "code",
      "metadata": {
        "id": "5EXiGgKMbyFt"
      },
      "source": [
        "#pegando os dados e transformando os pixels das imagens em numeros entre 0 e 1\n",
        "\n",
        "train_images = train_images / 255\n",
        "test_images = test_images / 255"
      ],
      "execution_count": null,
      "outputs": []
    },
    {
      "cell_type": "code",
      "metadata": {
        "id": "xKuDucPut1ss"
      },
      "source": [
        "#Transformando os labels, que antes eram numeros, em palavras que as classificam.\n",
        "labels = ['Avião', 'Carro', 'Passaro', 'Gato', 'Veado', 'Cachorro', 'Sapo', 'Cavalo', 'Navio', 'Caminhão']"
      ],
      "execution_count": null,
      "outputs": []
    },
    {
      "cell_type": "code",
      "metadata": {
        "id": "_0wt69P1cHMO"
      },
      "source": [
        "#inicializando o modelo como CNN e adicionando camadas a ela\n",
        "\n",
        "model = models.Sequential()\n",
        "model.add(layers.Conv2D(32, (3, 3), activation='relu', input_shape=(32, 32, 3)))\n",
        "model.add(layers.MaxPooling2D((2, 2)))\n",
        "model.add(layers.Conv2D(64, (3, 3), activation='relu'))\n",
        "model.add(layers.MaxPooling2D((2, 2)))\n",
        "model.add(layers.Conv2D(64, (3, 3), activation='relu'))"
      ],
      "execution_count": null,
      "outputs": []
    },
    {
      "cell_type": "code",
      "metadata": {
        "colab": {
          "base_uri": "https://localhost:8080/"
        },
        "id": "KHSU2v2MclsO",
        "outputId": "a8cc9d50-224f-4c08-a1a2-03c9679e3438"
      },
      "source": [
        "#NÃO É NECESSARIO \n",
        "\"\"\" \n",
        "O método summary() traz varias informaçoes do modelo, como os informaçoes\n",
        "de saida e parametros de cada camada. Tambem informa o total de parametros,\n",
        "parametros treinaveis e parametros não treinaveis. \n",
        "\"\"\"\n",
        "\n",
        "model.summary()"
      ],
      "execution_count": null,
      "outputs": [
        {
          "output_type": "stream",
          "text": [
            "Model: \"sequential\"\n",
            "_________________________________________________________________\n",
            "Layer (type)                 Output Shape              Param #   \n",
            "=================================================================\n",
            "conv2d (Conv2D)              (None, 30, 30, 32)        896       \n",
            "_________________________________________________________________\n",
            "max_pooling2d (MaxPooling2D) (None, 15, 15, 32)        0         \n",
            "_________________________________________________________________\n",
            "conv2d_1 (Conv2D)            (None, 13, 13, 64)        18496     \n",
            "_________________________________________________________________\n",
            "max_pooling2d_1 (MaxPooling2 (None, 6, 6, 64)          0         \n",
            "_________________________________________________________________\n",
            "conv2d_2 (Conv2D)            (None, 4, 4, 64)          36928     \n",
            "=================================================================\n",
            "Total params: 56,320\n",
            "Trainable params: 56,320\n",
            "Non-trainable params: 0\n",
            "_________________________________________________________________\n"
          ],
          "name": "stdout"
        }
      ]
    },
    {
      "cell_type": "code",
      "metadata": {
        "colab": {
          "base_uri": "https://localhost:8080/"
        },
        "id": "68PQA872dl1K",
        "outputId": "78e03beb-c9c4-4af5-cf7d-9d3a6751938f"
      },
      "source": [
        "\"\"\"\n",
        "Como apresentado acima no summary(), a tendencia do numero de outputs é diminuir\n",
        "a cada camada. Na ultima camada é possivel ver q o output é um array de 3 dimensões\n",
        "(4, 4, 64), ou seja, 1024 saidas (4x4x64=1024). Como o nosso dataset só tem 10 categorias\n",
        "o output da CNN deve ser 10 e apenas uma camada. Para transformar 3 camadas em uma,\n",
        "usamos uma camada Flatten (Achatar), e para transformar 1024 outputs em 10 adicionamos\n",
        "mais duas camadas densas (Dense).\n",
        "\"\"\"\n",
        "model.add(layers.Flatten())\n",
        "model.add(layers.Dense(64, activation='relu'))\n",
        "model.add(layers.Dense(10))\n",
        "\n",
        "#No metodo summary(), vemos que agora na ultima camada esta somente uma camada, e 10 outputs.\n",
        "model.summary()"
      ],
      "execution_count": null,
      "outputs": [
        {
          "output_type": "stream",
          "text": [
            "Model: \"sequential\"\n",
            "_________________________________________________________________\n",
            "Layer (type)                 Output Shape              Param #   \n",
            "=================================================================\n",
            "conv2d (Conv2D)              (None, 30, 30, 32)        896       \n",
            "_________________________________________________________________\n",
            "max_pooling2d (MaxPooling2D) (None, 15, 15, 32)        0         \n",
            "_________________________________________________________________\n",
            "conv2d_1 (Conv2D)            (None, 13, 13, 64)        18496     \n",
            "_________________________________________________________________\n",
            "max_pooling2d_1 (MaxPooling2 (None, 6, 6, 64)          0         \n",
            "_________________________________________________________________\n",
            "conv2d_2 (Conv2D)            (None, 4, 4, 64)          36928     \n",
            "_________________________________________________________________\n",
            "flatten (Flatten)            (None, 1024)              0         \n",
            "_________________________________________________________________\n",
            "dense (Dense)                (None, 64)                65600     \n",
            "_________________________________________________________________\n",
            "dense_1 (Dense)              (None, 10)                650       \n",
            "_________________________________________________________________\n",
            "flatten_1 (Flatten)          (None, 10)                0         \n",
            "_________________________________________________________________\n",
            "dense_2 (Dense)              (None, 64)                704       \n",
            "_________________________________________________________________\n",
            "dense_3 (Dense)              (None, 10)                650       \n",
            "=================================================================\n",
            "Total params: 123,924\n",
            "Trainable params: 123,924\n",
            "Non-trainable params: 0\n",
            "_________________________________________________________________\n"
          ],
          "name": "stdout"
        }
      ]
    },
    {
      "cell_type": "code",
      "metadata": {
        "colab": {
          "base_uri": "https://localhost:8080/"
        },
        "id": "_CM668zAiAvQ",
        "outputId": "980ffc6f-0335-4b67-fde7-882eef19a120"
      },
      "source": [
        "#compilando o modelo e otimizando-o com o \"adam\", um otimizador generico, focando em acuracia (accuracy)\n",
        "\n",
        "model.compile(optimizer='adam',\n",
        "              loss=tf.keras.losses.SparseCategoricalCrossentropy(from_logits=True),\n",
        "              metrics=['accuracy'])\n",
        "\n",
        "\"\"\"\n",
        "Agora dando fit no modelo, onde voce coloca de parametros os dados de treino/labels\n",
        "e os dados de validaçao. O numero de Epochs (Epócas) depende do numero de vezes que \n",
        "voce quer que o modelo repasse pelos dados, assim aumentando a acuracia a cada passada.\n",
        "Na teoria, o correto seria colocar varias epochs, porem nao funciona assim devido ao\n",
        "overfitting, ou, vicio do modelo, onde ele vai ter uma acuracia muito alta,porem\n",
        "somente para os dados treinados, não sendo verdade para futuros dados de input.\n",
        "\"\"\"\n",
        "history = model.fit(train_images, train_labels, epochs=30, \n",
        "                    validation_data=(test_images, test_labels))"
      ],
      "execution_count": null,
      "outputs": [
        {
          "output_type": "stream",
          "text": [
            "Epoch 1/10\n",
            "1563/1563 [==============================] - 7s 4ms/step - loss: 0.1882 - accuracy: 0.9332 - val_loss: 1.6974 - val_accuracy: 0.6893\n",
            "Epoch 2/10\n",
            "1563/1563 [==============================] - 6s 4ms/step - loss: 0.1643 - accuracy: 0.9423 - val_loss: 1.6809 - val_accuracy: 0.6828\n",
            "Epoch 3/10\n",
            "1563/1563 [==============================] - 6s 4ms/step - loss: 0.1658 - accuracy: 0.9415 - val_loss: 1.7376 - val_accuracy: 0.6930\n",
            "Epoch 4/10\n",
            "1563/1563 [==============================] - 6s 4ms/step - loss: 0.1480 - accuracy: 0.9480 - val_loss: 1.7758 - val_accuracy: 0.6816\n",
            "Epoch 5/10\n",
            "1563/1563 [==============================] - 6s 4ms/step - loss: 0.1557 - accuracy: 0.9457 - val_loss: 1.8524 - val_accuracy: 0.6914\n",
            "Epoch 6/10\n",
            "1563/1563 [==============================] - 6s 4ms/step - loss: 0.1435 - accuracy: 0.9499 - val_loss: 1.8679 - val_accuracy: 0.6884\n",
            "Epoch 7/10\n",
            "1563/1563 [==============================] - 6s 4ms/step - loss: 0.1553 - accuracy: 0.9448 - val_loss: 1.8847 - val_accuracy: 0.6974\n",
            "Epoch 8/10\n",
            "1563/1563 [==============================] - 6s 4ms/step - loss: 0.1346 - accuracy: 0.9524 - val_loss: 1.9032 - val_accuracy: 0.6824\n",
            "Epoch 9/10\n",
            "1563/1563 [==============================] - 6s 4ms/step - loss: 0.1305 - accuracy: 0.9542 - val_loss: 1.9666 - val_accuracy: 0.6799\n",
            "Epoch 10/10\n",
            "1563/1563 [==============================] - 6s 4ms/step - loss: 0.1377 - accuracy: 0.9511 - val_loss: 1.9030 - val_accuracy: 0.6901\n"
          ],
          "name": "stdout"
        }
      ]
    },
    {
      "cell_type": "code",
      "metadata": {
        "colab": {
          "base_uri": "https://localhost:8080/",
          "height": 283
        },
        "id": "jnaJVHS3lVhE",
        "outputId": "84ed55c0-a81c-4c5d-fb70-cea7a79b0864"
      },
      "source": [
        "\"\"\"\n",
        "Como a variavel test_images possui 10000 imagens dentro dela, usamos o metodo randint(),\n",
        "da biblioteca Random, para pegar um numero qualquer entre 0 e 9999. Com esse metodo,\n",
        "conseguimos pegar uma imagem aleatoria, e joga-la dentro do modelo, para assim, ocorrer a\n",
        "classificação da imagem.\n",
        "\"\"\"\n",
        "image_index = randint(0, 9999)\n",
        "plt.imshow(test_images[image_index])\n",
        "plt.show()\n",
        "\n",
        "pred = model.predict(test_images[image_index].reshape(1, 32, 32, 3))\n",
        "print(f'A imagem representa um: {labels[pred.argmax()]}')"
      ],
      "execution_count": null,
      "outputs": [
        {
          "output_type": "display_data",
          "data": {
            "image/png": "[encoded data removed]",
            "text/plain": [
              "<Figure size 432x288 with 1 Axes>"
            ]
          },
          "metadata": {
            "tags": [],
            "needs_background": "light"
          }
        },
        {
          "output_type": "stream",
          "text": [
            "A imagem representa um: Caminhão\n"
          ],
          "name": "stdout"
        }
      ]
    }
  ]
}